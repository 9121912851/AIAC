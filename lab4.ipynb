{
  "nbformat": 4,
  "nbformat_minor": 0,
  "metadata": {
    "colab": {
      "provenance": [],
      "authorship_tag": "ABX9TyNIY0ZW2+uPWNbJAP55j2hH",
      "include_colab_link": true
    },
    "kernelspec": {
      "name": "python3",
      "display_name": "Python 3"
    },
    "language_info": {
      "name": "python"
    }
  },
  "cells": [
    {
      "cell_type": "markdown",
      "metadata": {
        "id": "view-in-github",
        "colab_type": "text"
      },
      "source": [
        "<a href=\"https://colab.research.google.com/github/9121912851/AIAC/blob/main/lab4.ipynb\" target=\"_parent\"><img src=\"https://colab.research.google.com/assets/colab-badge.svg\" alt=\"Open In Colab\"/></a>"
      ]
    },
    {
      "cell_type": "code",
      "execution_count": null,
      "metadata": {
        "id": "kpFfrlClXNV_"
      },
      "outputs": [],
      "source": []
    },
    {
      "cell_type": "markdown",
      "source": [
        "Task Description#1\n",
        "●\tZero-shot: Prompt AI to write a function that checks whether a given year is a leap year.\n",
        "Expected Output#1\n",
        "●\tAI-generated function with no examples provided\n"
      ],
      "metadata": {
        "id": "Wwsp_WluXUpN"
      }
    },
    {
      "cell_type": "code",
      "source": [],
      "metadata": {
        "id": "6IgziC3OX86s"
      },
      "execution_count": null,
      "outputs": []
    },
    {
      "cell_type": "code",
      "metadata": {
        "colab": {
          "base_uri": "https://localhost:8080/"
        },
        "id": "25d8aa67",
        "outputId": "8c1fa926-ea81-41fc-dd5c-a48ec98a92b0"
      },
      "source": [
        "def is_leap_year(year):\n",
        "  \"\"\"Checks if a given year is a leap year.\"\"\"\n",
        "  return (year % 4 == 0 and year % 100 != 0) or (year % 400 == 0)\n",
        "\n",
        "# Get input from the user\n",
        "try:\n",
        "    year_to_check = int(input(\"Enter a year: \"))\n",
        "    if is_leap_year(year_to_check):\n",
        "        print(f\"{year_to_check} is a leap year.\")\n",
        "    else:\n",
        "        print(f\"{year_to_check} is not a leap year.\")\n",
        "except ValueError:\n",
        "    print(\"Invalid input. Please enter a valid year (a whole number).\")"
      ],
      "execution_count": 1,
      "outputs": [
        {
          "output_type": "stream",
          "name": "stdout",
          "text": [
            "Enter a year: 2024\n",
            "2024 is a leap year.\n"
          ]
        }
      ]
    },
    {
      "cell_type": "markdown",
      "source": [
        "Task Description#2\n",
        "●\tOne-shot: Give one input-output example to guide AI in writing a function that converts centimeters to inches.\n",
        "Expected Output#2\n",
        "●\tFunction with correct conversion logic\n"
      ],
      "metadata": {
        "id": "ywFpyh9VYSDh"
      }
    },
    {
      "cell_type": "code",
      "source": [
        "# One-shot example:\n",
        "# Input: 100 cm\n",
        "# Output: 39.37 inches\n",
        "\n",
        "def cm_to_inches(cm):\n",
        "  \"\"\"Converts centimeters to inches.\"\"\"\n",
        "  return cm * 0.393701\n",
        "\n",
        "# Get input from the user\n",
        "try:\n",
        "    cm_to_convert = float(input(\"Enter the value in centimeters to convert to inches: \"))\n",
        "    inches_result = cm_to_inches(cm_to_convert)\n",
        "    print(f\"{cm_to_convert} centimeters is equal to {inches_result:.2f} inches.\")\n",
        "except ValueError:\n",
        "    print(\"Invalid input. Please enter a valid number for centimeters.\")"
      ],
      "metadata": {
        "colab": {
          "base_uri": "https://localhost:8080/"
        },
        "id": "lU25TxNYYeOJ",
        "outputId": "2dd7bc61-0a3b-4811-d91c-75a103eeeebc"
      },
      "execution_count": 3,
      "outputs": [
        {
          "output_type": "stream",
          "name": "stdout",
          "text": [
            "Enter the value in centimeters to convert to inches: 100\n",
            "100.0 centimeters is equal to 39.37 inches.\n"
          ]
        }
      ]
    },
    {
      "cell_type": "code",
      "source": [],
      "metadata": {
        "id": "CufO05oMY2az"
      },
      "execution_count": null,
      "outputs": []
    },
    {
      "cell_type": "markdown",
      "source": [
        "Task Description#3\n",
        "        ● Few-shot: Provide 2–3 examples to generate a function that formats full names as\n",
        "                “Last, First”.\n",
        "Expected Output#3\n",
        "        ● Well-structured function respecting the example\n"
      ],
      "metadata": {
        "id": "16GUsukVZASW"
      }
    },
    {
      "cell_type": "code",
      "source": [],
      "metadata": {
        "id": "Avi2rZ89ZBsw"
      },
      "execution_count": null,
      "outputs": []
    },
    {
      "cell_type": "markdown",
      "metadata": {
        "id": "6d02096c"
      },
      "source": [
        "Task Description#3\n",
        "● Few-shot: Provide 2–3 examples to generate a function that formats full names as\n",
        "“Last, First”.\n",
        "Expected Output#3\n",
        "● Well-structured function respecting the example"
      ]
    },
    {
      "cell_type": "code",
      "metadata": {
        "colab": {
          "base_uri": "https://localhost:8080/"
        },
        "id": "8962bfbb",
        "outputId": "85a5646c-31e3-4e05-fec2-5efa77a81f30"
      },
      "source": [
        "# Few-shot examples:\n",
        "# Example 1:\n",
        "# Input: \"John Doe\"\n",
        "# Output: \"Doe, John\"\n",
        "\n",
        "# Example 2:\n",
        "# Input: \"Alice Wonderland\"\n",
        "# Output: \"Wonderland, Alice\"\n",
        "\n",
        "# Example 3:\n",
        "# Input: \"Peter Pan\"\n",
        "# Output: \"Pan, Peter\"\n",
        "\n",
        "def format_name(full_name):\n",
        "  \"\"\"Formats a full name as 'Last, First'.\"\"\"\n",
        "  names = full_name.split()\n",
        "  if len(names) >= 2:\n",
        "    return f\"{names[-1]}, {' '.join(names[:-1])}\"\n",
        "  else:\n",
        "    return full_name # Return the name as is if it doesn't have a space\n",
        "\n",
        "# Example usage:\n",
        "print(format_name(\"John Doe\"))\n",
        "print(format_name(\"Alice Wonderland\"))\n",
        "print(format_name(\"Peter Pan\"))\n",
        "print(format_name(\"Cher\")) # Example of a single name"
      ],
      "execution_count": 4,
      "outputs": [
        {
          "output_type": "stream",
          "name": "stdout",
          "text": [
            "Doe, John\n",
            "Wonderland, Alice\n",
            "Pan, Peter\n",
            "Cher\n"
          ]
        }
      ]
    },
    {
      "cell_type": "markdown",
      "source": [
        "●\tCompare zero-shot and few-shot prompts for writing a function that counts the number of vowels in a string.\n",
        "Expected Output#4\n",
        "●\tFunctional output and comparative reflection\n"
      ],
      "metadata": {
        "id": "UrToLSu6ZPdq"
      }
    },
    {
      "cell_type": "code",
      "source": [
        "def count_vowels(text):\n",
        "  \"\"\"Counts the number of vowels in a string.\"\"\"\n",
        "  vowels = \"aeiouAEIOU\"\n",
        "  vowel_count = 0\n",
        "  for char in text:\n",
        "    if char in vowels:\n",
        "      vowel_count += 1\n",
        "  return vowel_count\n",
        "\n",
        "# Get input from the user\n",
        "user_string = input(\"Enter a string to count vowels: \")\n",
        "vowel_number = count_vowels(user_string)\n",
        "print(f\"The number of vowels in the string is: {vowel_number}\")"
      ],
      "metadata": {
        "colab": {
          "base_uri": "https://localhost:8080/"
        },
        "id": "0RB6CIC4ZVOL",
        "outputId": "ae8e4098-3af7-40fd-ae66-654f00145d9d"
      },
      "execution_count": 5,
      "outputs": [
        {
          "output_type": "stream",
          "name": "stdout",
          "text": [
            "Enter a string to count vowels: sai sai sai\n",
            "The number of vowels in the string is: 6\n"
          ]
        }
      ]
    },
    {
      "cell_type": "code",
      "source": [
        "# Few-shot examples:\n",
        "# Example 1:\n",
        "# Input: \"hello\"\n",
        "# Output: 2\n",
        "\n",
        "# Example 2:\n",
        "# Input: \"programming\"\n",
        "# Output: 4\n",
        "\n",
        "# Example 3:\n",
        "# Input: \"AEIOU\"\n",
        "# Output: 5\n",
        "\n",
        "def count_vowels_fewshot(text):\n",
        "  \"\"\"Counts the number of vowels in a string using a few-shot approach.\"\"\"\n",
        "  vowels = \"aeiouAEIOU\"\n",
        "  vowel_count = 0\n",
        "  for char in text:\n",
        "    if char in vowels:\n",
        "      vowel_count += 1\n",
        "  return vowel_count\n",
        "\n",
        "# Example usage:\n",
        "print(f\"'hello' has {count_vowels_fewshot('hello')} vowels.\")\n",
        "print(f\"'programming' has {count_vowels_fewshot('programming')} vowels.\")\n",
        "print(f\"'AEIOU' has {count_vowels_fewshot('AEIOU')} vowels.\")"
      ],
      "metadata": {
        "colab": {
          "base_uri": "https://localhost:8080/"
        },
        "id": "kq9D8Nd-Zo0V",
        "outputId": "5e0ecc5a-50a0-47ce-f7c2-242b98bc9759"
      },
      "execution_count": 6,
      "outputs": [
        {
          "output_type": "stream",
          "name": "stdout",
          "text": [
            "'hello' has 2 vowels.\n",
            "'programming' has 3 vowels.\n",
            "'AEIOU' has 5 vowels.\n"
          ]
        }
      ]
    },
    {
      "cell_type": "markdown",
      "source": [
        "Task Description#5\n",
        "●\tUse few-shot prompting to generate a function that reads a .txt file and returns the number of lines.\n",
        "Expected Output#5\n",
        "●\tWorking file-processing function with AI-guided logic\n"
      ],
      "metadata": {
        "id": "Uo1dZ9o3Z7JM"
      }
    },
    {
      "cell_type": "code",
      "source": [
        "# Few-shot examples:\n",
        "# Example 1:\n",
        "# Input: A file named 'example1.txt' with content:\n",
        "# Line 1\n",
        "# Line 2\n",
        "# Line 3\n",
        "# Output: 3\n",
        "\n",
        "# Example 2:\n",
        "# Input: A file named 'example2.txt' with content:\n",
        "# Single line\n",
        "# Output: 1\n",
        "\n",
        "def count_lines_in_file(filename):\n",
        "  \"\"\"Reads a text file and returns the number of lines.\"\"\"\n",
        "  try:\n",
        "    with open(filename, 'r') as f:\n",
        "      lines = f.readlines()\n",
        "      return len(lines)\n",
        "  except FileNotFoundError:\n",
        "    return f\"Error: File '{filename}' not found.\"\n",
        "  except Exception as e:\n",
        "    return f\"An error occurred: {e}\"\n",
        "\n",
        "# Create dummy files for testing\n",
        "with open('example1.txt', 'w') as f:\n",
        "    f.write(\"Line 1\\n\")\n",
        "    f.write(\"Line 2\\n\")\n",
        "    f.write(\"Line 3\\n\")\n",
        "\n",
        "with open('example2.txt', 'w') as f:\n",
        "    f.write(\"Single line\\n\")\n",
        "\n",
        "# Example usage:\n",
        "print(f\"Number of lines in 'example1.txt': {count_lines_in_file('example1.txt')}\")\n",
        "print(f\"Number of lines in 'example2.txt': {count_lines_in_file('example2.txt')}\")\n",
        "print(f\"Number of lines in 'non_existent_file.txt': {count_lines_in_file('non_existent_file.txt')}\")"
      ],
      "metadata": {
        "colab": {
          "base_uri": "https://localhost:8080/"
        },
        "id": "GYtyi4NzZ8M8",
        "outputId": "92e0e145-ea93-4c30-d4cb-894ffae12406"
      },
      "execution_count": 7,
      "outputs": [
        {
          "output_type": "stream",
          "name": "stdout",
          "text": [
            "Number of lines in 'example1.txt': 3\n",
            "Number of lines in 'example2.txt': 1\n",
            "Number of lines in 'non_existent_file.txt': Error: File 'non_existent_file.txt' not found.\n"
          ]
        }
      ]
    }
  ]
}